{
 "cells": [
  {
   "cell_type": "markdown",
   "metadata": {},
   "source": [
    "bionomial distribution = "
   ]
  },
  {
   "cell_type": "code",
   "execution_count": 3,
   "metadata": {},
   "outputs": [
    {
     "data": {
      "text/plain": [
       "0.07958923738717877"
      ]
     },
     "execution_count": 3,
     "metadata": {},
     "output_type": "execute_result"
    }
   ],
   "source": [
    "import math \n",
    "\n",
    "fifty_fifty = math.comb(100, 50)\n",
    "chance = fifty_fifty * (0.5**50) * (0.5**50)\n",
    "chance"
   ]
  },
  {
   "cell_type": "code",
   "execution_count": 6,
   "metadata": {},
   "outputs": [
    {
     "data": {
      "text/plain": [
       "'probability: 4.8474296626430755%'"
      ]
     },
     "execution_count": 6,
     "metadata": {},
     "output_type": "execute_result"
    }
   ],
   "source": [
    "import math\n",
    "def coin_bet_probability_calculator(total_round, win_rounds, win_rate):\n",
    "    combination = math.comb(total_round, win_rounds)\n",
    "    chance = combination * (win_rate**win_rounds) * ((1-win_rate)**(total_round-win_rounds))\n",
    "    return f'probability: {chance*100}%'\n",
    "coin_bet_probability_calculator(100,55,0.5)\n",
    "    "
   ]
  },
  {
   "cell_type": "markdown",
   "metadata": {},
   "source": [
    "$$C_{100}^{50} \\times (0.5)^{50} \\times (0.5)^{50}$$\n"
   ]
  },
  {
   "cell_type": "markdown",
   "metadata": {},
   "source": [
    "$C_{100}^{50}$ = 玩$100$次有 $50$ 個位子贏 $50$ 個位子輸， 可能的組合有 $C_{100}^{50}$ 個 <br>\n",
    "贏的機率 $50\\% $ <br>\n",
    "贏的機率 $50\\% $ <br>\n",
    "總共贏$50$次 輸$50$次 所以排列的機率是 $(50\\% )^{50} \\times(50\\% )^{50}$\n"
   ]
  },
  {
   "cell_type": "code",
   "execution_count": 7,
   "metadata": {},
   "outputs": [
    {
     "data": {
      "text/plain": [
       "'probability: 7.958923738717877%'"
      ]
     },
     "execution_count": 7,
     "metadata": {},
     "output_type": "execute_result"
    }
   ],
   "source": [
    "coin_bet_probability_calculator(100,50,0.5)"
   ]
  },
  {
   "cell_type": "markdown",
   "metadata": {},
   "source": [
    "$$C_{100}^{55} \\times (0.5)^{55} \\times (0.5)^{45}$$\n"
   ]
  },
  {
   "cell_type": "code",
   "execution_count": 8,
   "metadata": {},
   "outputs": [
    {
     "data": {
      "text/plain": [
       "'probability: 4.8474296626430755%'"
      ]
     },
     "execution_count": 8,
     "metadata": {},
     "output_type": "execute_result"
    }
   ],
   "source": [
    "coin_bet_probability_calculator(100,55,0.5)"
   ]
  },
  {
   "cell_type": "markdown",
   "metadata": {},
   "source": [
    "$$C_{100}^{90} \\times (0.5)^{90} \\times (0.5)^{10}$$\n"
   ]
  },
  {
   "cell_type": "code",
   "execution_count": 9,
   "metadata": {},
   "outputs": [
    {
     "data": {
      "text/plain": [
       "'probability: 1.36554263874631e-15%'"
      ]
     },
     "execution_count": 9,
     "metadata": {},
     "output_type": "execute_result"
    }
   ],
   "source": [
    "coin_bet_probability_calculator(100,90,0.5)"
   ]
  },
  {
   "cell_type": "code",
   "execution_count": null,
   "metadata": {},
   "outputs": [],
   "source": []
  }
 ],
 "metadata": {
  "kernelspec": {
   "display_name": "Python 3",
   "language": "python",
   "name": "python3"
  },
  "language_info": {
   "codemirror_mode": {
    "name": "ipython",
    "version": 3
   },
   "file_extension": ".py",
   "mimetype": "text/x-python",
   "name": "python",
   "nbconvert_exporter": "python",
   "pygments_lexer": "ipython3",
   "version": "3.11.5"
  }
 },
 "nbformat": 4,
 "nbformat_minor": 2
}
