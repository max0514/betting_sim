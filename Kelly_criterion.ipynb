{
 "cells": [
  {
   "cell_type": "markdown",
   "metadata": {},
   "source": [
    "bionomial distribution = "
   ]
  },
  {
   "cell_type": "code",
   "execution_count": 3,
   "metadata": {},
   "outputs": [
    {
     "data": {
      "text/plain": [
       "0.07958923738717877"
      ]
     },
     "execution_count": 3,
     "metadata": {},
     "output_type": "execute_result"
    }
   ],
   "source": [
    "import math \n",
    "\n",
    "fifty_fifty = math.comb(100, 50)\n",
    "chance = fifty_fifty * (0.5**50) * (0.5**50)\n",
    "chance"
   ]
  },
  {
   "cell_type": "code",
   "execution_count": 6,
   "metadata": {},
   "outputs": [
    {
     "data": {
      "text/plain": [
       "'probability: 4.8474296626430755%'"
      ]
     },
     "execution_count": 6,
     "metadata": {},
     "output_type": "execute_result"
    }
   ],
   "source": [
    "import math\n",
    "def coin_bet_probability_calculator(total_round, win_rounds, win_rate):\n",
    "    combination = math.comb(total_round, win_rounds)\n",
    "    chance = combination * (win_rate**win_rounds) * ((1-win_rate)**(total_round-win_rounds))\n",
    "    return f'probability: {chance*100}%'\n",
    "coin_bet_probability_calculator(100,55,0.5)\n",
    "    "
   ]
  },
  {
   "cell_type": "markdown",
   "metadata": {},
   "source": [
    "$$C_{100}^{50} \\times (0.5)^{50} \\times (0.5)^{50}$$\n"
   ]
  },
  {
   "cell_type": "markdown",
   "metadata": {},
   "source": [
    "$C_{100}^{50}$ = 玩$100$次有 $50$ 個位子贏 $50$ 個位子輸， 可能的組合有 $C_{100}^{50}$ 個 <br>\n",
    "贏的機率 $50\\% $ <br>\n",
    "贏的機率 $50\\% $ <br>\n",
    "總共贏$50$次 輸$50$次 所以排列的機率是 $(50\\% )^{50} \\times(50\\% )^{50}$\n"
   ]
  },
  {
   "cell_type": "code",
   "execution_count": 7,
   "metadata": {},
   "outputs": [
    {
     "data": {
      "text/plain": [
       "'probability: 7.958923738717877%'"
      ]
     },
     "execution_count": 7,
     "metadata": {},
     "output_type": "execute_result"
    }
   ],
   "source": [
    "coin_bet_probability_calculator(100,50,0.5)"
   ]
  },
  {
   "cell_type": "markdown",
   "metadata": {},
   "source": [
    "$$C_{100}^{55} \\times (0.5)^{55} \\times (0.5)^{45}$$\n"
   ]
  },
  {
   "cell_type": "code",
   "execution_count": 8,
   "metadata": {},
   "outputs": [
    {
     "data": {
      "text/plain": [
       "'probability: 4.8474296626430755%'"
      ]
     },
     "execution_count": 8,
     "metadata": {},
     "output_type": "execute_result"
    }
   ],
   "source": [
    "coin_bet_probability_calculator(100,55,0.5)"
   ]
  },
  {
   "cell_type": "markdown",
   "metadata": {},
   "source": [
    "$$C_{100}^{90} \\times (0.5)^{90} \\times (0.5)^{10}$$\n"
   ]
  },
  {
   "cell_type": "code",
   "execution_count": 9,
   "metadata": {},
   "outputs": [
    {
     "data": {
      "text/plain": [
       "'probability: 1.36554263874631e-15%'"
      ]
     },
     "execution_count": 9,
     "metadata": {},
     "output_type": "execute_result"
    }
   ],
   "source": [
    "coin_bet_probability_calculator(100,90,0.5)"
   ]
  },
  {
   "cell_type": "markdown",
   "metadata": {},
   "source": [
    "<h1>期望淨利</h1> \n"
   ]
  },
  {
   "cell_type": "markdown",
   "metadata": {},
   "source": [
    "$$p\\times b + (1-p) \\times {-1}$$\n",
    "簡化：\n",
    "$$p(1＋b)-1$$\n",
    "## if $p (1 + b) - 1 > 0$ = 有利可圖\n",
    "\n",
    "\n"
   ]
  },
  {
   "cell_type": "code",
   "execution_count": 60,
   "metadata": {},
   "outputs": [
    {
     "name": "stdout",
     "output_type": "stream",
     "text": [
      "The expect_return is: 1999.0000000999999\n"
     ]
    }
   ],
   "source": [
    "def expect_return_calculator(p, b):\n",
    "    \"\"\"\n",
    "    Calculate the expression p * (1 + b) - 1.\n",
    "\n",
    "    Parameters:\n",
    "    p (float): Probability or coefficient factor.\n",
    "    b (float): The additional multiplier factor.\n",
    "\n",
    "    Returns:\n",
    "    float: Result of the expression.\n",
    "    \"\"\"\n",
    "    return p * (1 + b) - 1\n",
    "\n",
    "# Example usage\n",
    "result = expect_return_calculator(0.0000001, 20000000000)\n",
    "print(\"The expect_return is:\", result)\n"
   ]
  },
  {
   "cell_type": "markdown",
   "metadata": {},
   "source": [
    "## 一次只下注$f$比例資金的情況"
   ]
  },
  {
   "cell_type": "markdown",
   "metadata": {},
   "source": [
    "### Simplification of the Function\n",
    "\n",
    "Consider the function:\n",
    "\n",
    "$$\n",
    "p \\times (1 + bf) + (1 - p) \\times (1 - f)\n",
    "$$\n",
    "\n",
    "We aim to simplify this expression step-by-step:\n",
    "\n",
    "#### Step 1: Expand each term\n",
    "\n",
    "$$\n",
    "p \\times (1 + bf) + (1 - p) \\times (1 - f) = p + pbf+ 1 - p - f + pf\n",
    "$$\n",
    "\n",
    "\n",
    "#### Step 2: Factor out \\( f \\) from the terms involving it\n",
    "\n",
    "Factor \\( f \\) to consolidate terms:\n",
    "\n",
    "$$\n",
    "1 + f(pf + pb - 1)\n",
    "$$\n",
    "\n",
    "#### Final Simplified Form\n",
    "\n",
    "Rewrite to emphasize the role of each parameter on \\( f \\):\n",
    "\n",
    "$$\n",
    "1 + f(p(b + 1) - 1)\n",
    "$$\n",
    "\n",
    "This is the final simplified expression, showing how each component \\( p \\), \\( b \\), and \\( f \\) influences the overall expression.\n"
   ]
  },
  {
   "cell_type": "code",
   "execution_count": 9,
   "metadata": {},
   "outputs": [
    {
     "data": {
      "text/plain": [
       "1.1"
      ]
     },
     "execution_count": 9,
     "metadata": {},
     "output_type": "execute_result"
    }
   ],
   "source": [
    "def expect_return_calculator_with_f(p, b, f):\n",
    "    return 1 + f * (p * (b + 1) - 1)\n",
    "\n",
    "\n",
    "expect_return_calculator_with_f(0.5, 2, 0.2)\n"
   ]
  },
  {
   "cell_type": "markdown",
   "metadata": {},
   "source": [
    "## 一次下注$f$比例資金的情況，下注$T$次的期望值\n"
   ]
  },
  {
   "cell_type": "markdown",
   "metadata": {},
   "source": [
    "## if T=2\n"
   ]
  },
  {
   "cell_type": "markdown",
   "metadata": {},
   "source": [
    "For \\( T = 2 \\) (i.e., two flips), we can have the following outcomes:\n",
    "- \\( HH \\): Heads on the first flip, heads on the second flip\n",
    "- \\( HT \\): Heads on the first flip, tails on the second flip\n",
    "- \\( TH \\): Tails on the first flip, heads on the second flip\n",
    "- \\( TT \\): Tails on the first flip, tails on the second flip\n",
    "\n",
    "so the expected value of HT and TH will be\n",
    "$$C_{1}^{2} \\times (0.5)^{1} \\times (0.5)^{1} \\times (1 + bf) \\times(1 - f)$$ \n",
    "\n",
    "so the expected value of TT and HH will be\n",
    "$$C_{0}^{2} \\times (0.5)^{2} \\times (1 + bf) \\times (1 - f)$$ \n",
    "or\n",
    "$$C_{2}^{2} \\times (0.5)^{2} \\times (1 + bf) \\times (1 - f)$$\n",
    "\n",
    "the overall expected value\n",
    "$$\\sum_{k=0}^{2}C_{k}^{2} \\times (p)^{k} \\times (1-p)^{2-k} \\times (1 + bf)^{k} \\times (1 - f)^{2-k}$$ \n",
    "\n"
   ]
  },
  {
   "cell_type": "markdown",
   "metadata": {},
   "source": [
    "## if T=T"
   ]
  },
  {
   "cell_type": "markdown",
   "metadata": {},
   "source": [
    "$$\\sum_{k=0}^{T}C_{k}^{T} \\times (p)^{k} \\times (1-p)^{T-k} \\times (1 + bf)^{k} \\times (1 - f)^{T-k}$$ "
   ]
  },
  {
   "cell_type": "code",
   "execution_count": 43,
   "metadata": {},
   "outputs": [
    {
     "name": "stdout",
     "output_type": "stream",
     "text": [
      "The calculated result is: 1.5625\n"
     ]
    }
   ],
   "source": [
    "from math import comb\n",
    "\n",
    "def calculate_expect_return_with_T_times(T, p, b, f):\n",
    "    result = 0\n",
    "    for k in range(T + 1):\n",
    "        binom = comb(T, k)  # Binomial coefficient\n",
    "        p_term = (p ** k) * ((1 - p) ** (T - k))\n",
    "        b_term = (1 + b*f) ** k\n",
    "        f_term = (1 - f) ** (T - k)\n",
    "        result += binom * p_term * b_term * f_term\n",
    "    return result\n",
    "\n",
    "# Example usage:\n",
    "T = 2  # Total number of trials\n",
    "p = 0.5  # Probability of success\n",
    "b = 2  # bet ratio \n",
    "f = 0.5  # percentage of investment\n",
    "\n",
    "result = calculate_expect_return_with_T_times(T, p, b, f)\n",
    "print(f\"The calculated result is: {result}\")\n"
   ]
  },
  {
   "cell_type": "code",
   "execution_count": 26,
   "metadata": {},
   "outputs": [
    {
     "name": "stdout",
     "output_type": "stream",
     "text": [
      "The calculated result is: 1.5\n"
     ]
    }
   ],
   "source": [
    "T = 1  # Total number of trials\n",
    "p = 0.5  # Probability of success\n",
    "b = 2  # bet ratio \n",
    "f = 1  # percentage of investment\n",
    "\n",
    "result = calculate_expect_return_with_T_times(T, p, b, f)\n",
    "print(f\"The calculated result is: {result}\")"
   ]
  },
  {
   "cell_type": "code",
   "execution_count": 45,
   "metadata": {},
   "outputs": [
    {
     "name": "stdout",
     "output_type": "stream",
     "text": [
      "The calculated result is: 1.5625\n"
     ]
    }
   ],
   "source": [
    "T = 2  # Total number of trials\n",
    "p = 0.5  # Probability of success\n",
    "b = 2  # bet ratio \n",
    "f = 0.5  # percentage of investment\n",
    "\n",
    "result = calculate_expect_return_with_T_times(T, p, b, f)\n",
    "print(f\"The calculated result is: {result}\")"
   ]
  },
  {
   "cell_type": "code",
   "execution_count": 44,
   "metadata": {},
   "outputs": [
    {
     "data": {
      "image/png": "[encoded data removed]",
      "text/plain": [
       "<Figure size 1000x500 with 1 Axes>"
      ]
     },
     "metadata": {},
     "output_type": "display_data"
    },
    {
     "name": "stdout",
     "output_type": "stream",
     "text": [
      "The best value of F is: 1.00, with a maximum EACG of 1.5\n"
     ]
    }
   ],
   "source": [
    "import numpy as np\n",
    "import matplotlib.pyplot as plt\n",
    "from math import comb\n",
    "def find_best_F_and_plot(T, p, b, num_points=100):\n",
    "    f_range = np.linspace(0, 1, num_points)\n",
    "    best_f = None\n",
    "    max_result = -np.inf\n",
    "    results = []\n",
    "\n",
    "    for f in f_range:\n",
    "        result = calculate_expect_return_with_T_times(T, p, b, f)\n",
    "        results.append(result)\n",
    "        if result > max_result:\n",
    "            max_result = result\n",
    "            best_f = f\n",
    "\n",
    "    # Plotting the results\n",
    "    plt.figure(figsize=(10, 5))\n",
    "    plt.plot(f_range, results, label='Result vs. F')\n",
    "    plt.scatter([best_f], [max(results)], color='red', label=f'Best F = {best_f:.2f}')\n",
    "    plt.title('Effect of F on the Result of the Sum')\n",
    "    plt.xlabel('F')\n",
    "    plt.ylabel('Result of the Sum')\n",
    "    plt.legend()\n",
    "    plt.grid(True)\n",
    "    plt.show()\n",
    "\n",
    "    return best_f, max_result\n",
    "\n",
    "# Usage example\n",
    "T = 1\n",
    "p = 0.5\n",
    "b = 2\n",
    "best_f, max_result = find_best_F_and_plot(T, p, b)\n",
    "print(f\"The best value of F is: {best_f:.2f}, with a maximum EACG of {max_result}\")"
   ]
  },
  {
   "cell_type": "code",
   "execution_count": 37,
   "metadata": {},
   "outputs": [
    {
     "data": {
      "image/png": "[encoded data removed]",
      "text/plain": [
       "<Figure size 1000x500 with 1 Axes>"
      ]
     },
     "metadata": {},
     "output_type": "display_data"
    },
    {
     "name": "stdout",
     "output_type": "stream",
     "text": [
      "The best value of F is: 1.00, with a maximum AECG of 3325.256730079651\n"
     ]
    }
   ],
   "source": [
    "T = 20\n",
    "p = 0.5\n",
    "b = 2\n",
    "best_f, max_result = find_best_F_and_plot(T, p, b)\n",
    "print(f\"The best value of F is: {best_f:.2f}, with a maximum EACG of {max_result}\")"
   ]
  },
  {
   "cell_type": "markdown",
   "metadata": {},
   "source": [
    "## best F always = 100%, why?"
   ]
  },
  {
   "cell_type": "markdown",
   "metadata": {},
   "source": [
    "## in real life, if we always bet 100% we will likely to be bankrupt\n",
    "上述的方法是將所有的情況的報酬加總做平均，但在現實世界我們只有一次機會 我們不是奇異博士"
   ]
  },
  {
   "cell_type": "markdown",
   "metadata": {},
   "source": [
    "## 所以我們應該將每一步的損益反映在資金上，先幾何平均，再算術平均"
   ]
  },
  {
   "cell_type": "markdown",
   "metadata": {},
   "source": [
    "## $T=2$\n",
    "\n",
    "WW:\n",
    "$$(1 + bf)(1 + bf)^{\\frac{1}{2}}$$\n",
    "WL:\n",
    "$$(1 + bf)(1 - f)^{\\frac{1}{2}}$$\n",
    "LW:\n",
    "$$(1 -f)(1 + bf)^{\\frac{1}{2}}$$\n",
    "LL:\n",
    "$$(1 - f)(1 - f)^{\\frac{1}{2}}$$"
   ]
  },
  {
   "cell_type": "markdown",
   "metadata": {},
   "source": [
    "## 加總起來\n",
    "$$(1 + bf)(1 + bf)^{\\frac{1}{2}} +(1 + bf)(1 - f)^{\\frac{1}{2}} +(1 + bf)(1 - f)^{\\frac{1}{2}}+(1 - f)(1 - f)^{\\frac{1}{2}}$$"
   ]
  },
  {
   "cell_type": "code",
   "execution_count": 48,
   "metadata": {},
   "outputs": [
    {
     "name": "stdout",
     "output_type": "stream",
     "text": [
      "3.7432176885000414\n"
     ]
    }
   ],
   "source": [
    "def calculate_simple_EACG(b,f):\n",
    "    term1 = (1 + b*f) * math.sqrt(1 + b*f)\n",
    "    term2 = (1 + b*f) * math.sqrt(1 - f)\n",
    "    term3 = (1 + b*f) * math.sqrt(1 - f)\n",
    "    term4 = (1 - f) * math.sqrt(1 - f)\n",
    "    return term1 + term2 + term3 + term4\n",
    "\n",
    "# Example usage:\n",
    "b = 0.5  # Replace with your value for b\n",
    "f = 0.3  # Replace with your value for f\n",
    "result = calculate_simple_EACG(b, f)\n",
    "print(result)\n",
    "\n"
   ]
  },
  {
   "cell_type": "markdown",
   "metadata": {},
   "source": [
    "## general version T=T"
   ]
  },
  {
   "cell_type": "markdown",
   "metadata": {},
   "source": [
    "$$\\sum_{k=0}^{T}C_{k}^{T} \\times (p)^{k} \\times (1-p)^{T-k} \\times [(1 + bf)^{k} \\times (1 - f)^{T-k}]^{\\frac{1}{T}}$$ \n",
    " note that we add $[ ]^\\frac{1}{T}$"
   ]
  },
  {
   "cell_type": "code",
   "execution_count": 55,
   "metadata": {},
   "outputs": [
    {
     "name": "stdout",
     "output_type": "stream",
     "text": [
      "1.125\n"
     ]
    }
   ],
   "source": [
    "def calculate_EACG(T, b, f, p):\n",
    "    result = 0\n",
    "    for k in range(T + 1):\n",
    "        binomial_coeff = math.comb(T, k)\n",
    "        prob_component = (p ** k) * ((1 - p) ** (T - k))\n",
    "        inside_bracket = ((1 + b * f) ** k) * ((1 - f) ** (T - k))\n",
    "        term = binomial_coeff * prob_component * (inside_bracket ** (1 / T))\n",
    "        result += term\n",
    "    return result\n",
    "\n",
    "# Example usage:\n",
    "T = 2  # Total number of trials\n",
    "p = 0.5  # Probability of success\n",
    "b = 2  # bet ratio \n",
    "f = 0.5  # percentage of investment\n",
    "result = calculate_EACG(T, b, f, p)\n",
    "print(result)"
   ]
  },
  {
   "cell_type": "code",
   "execution_count": 62,
   "metadata": {},
   "outputs": [
    {
     "data": {
      "image/png": "[encoded data removed]",
      "text/plain": [
       "<Figure size 1000x500 with 1 Axes>"
      ]
     },
     "metadata": {},
     "output_type": "display_data"
    },
    {
     "name": "stdout",
     "output_type": "stream",
     "text": [
      "The best f value is: 0.19\n"
     ]
    }
   ],
   "source": [
    "import numpy as np\n",
    "import matplotlib.pyplot as plt\n",
    "from scipy.optimize import minimize\n",
    "from scipy.special import comb\n",
    "import math\n",
    "\n",
    "# Function to calculate the sum, renamed as calculate_EACG\n",
    "def calculate_EACG(f, T, b, p):\n",
    "    result = 0\n",
    "    for k in range(T + 1):\n",
    "        binomial_coeff = comb(T, k)\n",
    "        prob_component = (p ** k) * ((1 - p) ** (T - k))\n",
    "        inside_bracket = ((1 + b * f) ** k) * ((1 - f) ** (T - k))\n",
    "        term = binomial_coeff * prob_component * (inside_bracket ** (1 / T))\n",
    "        result += term\n",
    "    return result\n",
    "\n",
    "# Objective function to be minimized (use -calculate_EACG for maximization)\n",
    "def objective(f, T, b, p):\n",
    "    return -calculate_EACG(f, T, b, p)\n",
    "\n",
    "# Function to optimize f and plot the results\n",
    "def optimize_and_plot(T, b, p):\n",
    "    # Range of f values from 0 to 1 (0% to 100%)\n",
    "    f_values = np.linspace(0, 1, 100)\n",
    "    results = []\n",
    "\n",
    "    # Calculate the EACG for each value of f\n",
    "    for f in f_values:\n",
    "        result = calculate_EACG(f, T, b, p)\n",
    "        results.append(result)\n",
    "\n",
    "    # Use scipy's minimize function to find the best f\n",
    "    optimal_result = minimize(objective, x0=0.5, args=(T, b, p), bounds=[(0, 1)])\n",
    "    best_f = optimal_result.x[0]\n",
    "\n",
    "    # Plotting\n",
    "    plt.figure(figsize=(10, 5))\n",
    "    plt.plot(f_values, results, label='EACG as a function of f')\n",
    "    plt.scatter(best_f, calculate_EACG(best_f, T, b, p), color='red', label=f'Optimal f = {best_f:.2f}')\n",
    "    plt.title('Optimization of f')\n",
    "    plt.xlabel('f')\n",
    "    plt.ylabel('Value of EACG')\n",
    "    plt.legend()\n",
    "    plt.grid(True)\n",
    "    plt.show()\n",
    "\n",
    "    return best_f\n",
    "\n",
    "# Example usage:\n",
    "T = 2  # The upper limit of the sum\n",
    "b = 0.5  # Example value for b\n",
    "p = 0.7  # Example value for p\n",
    "best_f = optimize_and_plot(T, b, p)\n",
    "print(f\"The best f value is: {best_f:.2f}\")\n"
   ]
  },
  {
   "cell_type": "code",
   "execution_count": null,
   "metadata": {},
   "outputs": [],
   "source": []
  }
 ],
 "metadata": {
  "kernelspec": {
   "display_name": "Python 3",
   "language": "python",
   "name": "python3"
  },
  "language_info": {
   "codemirror_mode": {
    "name": "ipython",
    "version": 3
   },
   "file_extension": ".py",
   "mimetype": "text/x-python",
   "name": "python",
   "nbconvert_exporter": "python",
   "pygments_lexer": "ipython3",
   "version": "3.11.5"
  }
 },
 "nbformat": 4,
 "nbformat_minor": 2
}
