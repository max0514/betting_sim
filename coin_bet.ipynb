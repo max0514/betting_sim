{
 "cells": [
  {
   "cell_type": "markdown",
   "metadata": {},
   "source": [
    "Coin bet: head 2X bet, tail lost all bet\n"
   ]
  },
  {
   "cell_type": "code",
   "execution_count": 4,
   "metadata": {},
   "outputs": [
    {
     "name": "stdout",
     "output_type": "stream",
     "text": [
      "Total earnings after 100 flips: $4.383645531368804\n"
     ]
    }
   ],
   "source": [
    "import random\n",
    "\n",
    "def simulate_coin_bet(asset,invest_ratio, num_flips):\n",
    "\n",
    "    for i in range(num_flips):\n",
    "    # Simulate the coin flip, '0' is tails, '1' is heads\n",
    "        bet_amount = asset*invest_ratio\n",
    "\n",
    "        flip_result = random.randint(0, 1)\n",
    "        if flip_result == 1:\n",
    "            asset += bet_amount  # Win the bet amount\n",
    "        else:\n",
    "            asset -= bet_amount  # Lose the bet amount\n",
    "        \n",
    "    return asset\n",
    "\n",
    "# Example usage\n",
    "asset = 10  # The amount of money bet on each flip\n",
    "num_flips = 100  # Number of flips\n",
    "invest_ratio=0.2\n",
    "total_earnings = simulate_coin_bet(asset,invest_ratio, num_flips)\n",
    "print(f\"Total earnings after {num_flips} flips: ${total_earnings}\")\n",
    "\n",
    "\n"
   ]
  },
  {
   "cell_type": "code",
   "execution_count": 10,
   "metadata": {},
   "outputs": [
    {
     "name": "stdout",
     "output_type": "stream",
     "text": [
      "Final asset value after 10000 flips: $1.0994726889684918e-77\n",
      "0       8.000000e+01\n",
      "1       6.400000e+01\n",
      "2       7.680000e+01\n",
      "3       6.144000e+01\n",
      "4       4.915200e+01\n",
      "            ...     \n",
      "9995    1.193004e-77\n",
      "9996    1.431605e-77\n",
      "9997    1.717926e-77\n",
      "9998    1.374341e-77\n",
      "9999    1.099473e-77\n",
      "Length: 10000, dtype: float64\n"
     ]
    }
   ],
   "source": [
    "import random\n",
    "import pandas as pd\n",
    "import matplotlib.pyplot as plt\n",
    "\n",
    "def simulate_coin_bet(asset, invest_ratio, num_flips):\n",
    "    results = []  # List to store each game result\n",
    "\n",
    "    for _ in range(num_flips):\n",
    "        bet_amount = asset * invest_ratio\n",
    "        flip_result = random.randint(0, 1)\n",
    "\n",
    "        if flip_result == 1:\n",
    "            asset += bet_amount  # Win the bet amount\n",
    "        else:\n",
    "            asset -= bet_amount  # Lose the bet amount\n",
    "\n",
    "        results.append(asset)  # Append current asset to results\n",
    "\n",
    "    results_series = pd.Series(results)  # Convert list to Pandas Series\n",
    "    return asset, results_series\n",
    "\n",
    "# Example usage\n",
    "initial_asset = 100  # Initial amount of money\n",
    "num_flips = 10000      # Number of flips\n",
    "invest_ratio = 0.2   # Proportion of asset to bet on each flip\n",
    "\n",
    "final_asset, game_results = simulate_coin_bet(initial_asset, invest_ratio, num_flips)\n",
    "print(f\"Final asset value after {num_flips} flips: ${final_asset}\")\n",
    "print(game_results)  # Print the Pandas Series of results\n"
   ]
  },
  {
   "cell_type": "code",
   "execution_count": 11,
   "metadata": {},
   "outputs": [
    {
     "data": {
      "text/plain": [
       "Text(0, 0.5, 'asset')"
      ]
     },
     "execution_count": 11,
     "metadata": {},
     "output_type": "execute_result"
    },
    {
     "data": {
      "image/png": "[encoded data removed]",
      "text/plain": [
       "<Figure size 640x480 with 1 Axes>"
      ]
     },
     "metadata": {},
     "output_type": "display_data"
    }
   ],
   "source": [
    "game_results.plot()\n",
    "plt.xlabel('num_flips')\n",
    "plt.ylabel('asset')"
   ]
  },
  {
   "cell_type": "code",
   "execution_count": null,
   "metadata": {},
   "outputs": [],
   "source": []
  }
 ],
 "metadata": {
  "kernelspec": {
   "display_name": "Python 3",
   "language": "python",
   "name": "python3"
  },
  "language_info": {
   "codemirror_mode": {
    "name": "ipython",
    "version": 3
   },
   "file_extension": ".py",
   "mimetype": "text/x-python",
   "name": "python",
   "nbconvert_exporter": "python",
   "pygments_lexer": "ipython3",
   "version": "3.11.5"
  }
 },
 "nbformat": 4,
 "nbformat_minor": 2
}
